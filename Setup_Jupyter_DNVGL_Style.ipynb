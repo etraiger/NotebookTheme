{
 "cells": [
  {
   "cell_type": "code",
   "execution_count": 1,
   "metadata": {
    "ExecuteTime": {
     "end_time": "2018-06-14T07:30:10.757663Z",
     "start_time": "2018-06-14T07:30:10.741620Z"
    },
    "hide_input": true,
    "tags": [
     "remove_input"
    ]
   },
   "outputs": [
    {
     "data": {
      "text/html": [
       "\n",
       "<!-- html code to create a report title page -->\n",
       "\n",
       "<!-- The title page is created from an html table of class .titlepage which is configured from the .css\n",
       "additional detail can be added by including further rows in the table.\n",
       "Copy the format to add additional detail as a row -->\n",
       "\n",
       "<table  class = titlepage>\n",
       "\n",
       "    <!-- don't change the header -->\n",
       "    <tr>\n",
       "        <th colspan=\"2\"><img class=\"logo-image\" src=\"https://mydnvglcdn.azureedge.net/cdn/dnvgl-styles/common/images/logo/logo-wide.svg\" stle=\"width:100%\" /></th>\n",
       "    </tr>\n",
       "\n",
       "    <!-- set the report title -->\n",
       "    <tr>\n",
       "        <td colspan=\"2\">DNV GL Style: Jupyter Notebook</td>\n",
       "    </tr>\n",
       "  \n",
       "    <!-- set a short description -->\n",
       "    <tr>\n",
       "        <td colspan=\"2\"> A guide to Aesthetic Config  </td>\n",
       "    </tr>\n",
       "\n",
       "    <!-- include a picture -->\n",
       "    <tr>\n",
       "        <td colspan=\"2\"><img src=\"markup_data\\styleguide_wordcloud.jpg\" alt=\"CoverImage\" style=\"width: 100%;\"/></td>\n",
       "    </tr>\n",
       "\n",
       "    <!-- set the version -->\n",
       "    <tr>\n",
       "        <td>Version</td>\n",
       "        <td>0.5</td> \n",
       "    </tr>\n",
       "  \n",
       "    <!-- set the date -->\n",
       "    <tr>\n",
       "        <td>Date</td>\n",
       "        <td>14/06/2018</td> \n",
       "    </tr>\n",
       "  \n",
       "    <!-- set the author -->\n",
       "    <tr>\n",
       "        <td>Author(s)</td>\n",
       "        <td>Rachel Hassall</td> \n",
       "    </tr>\n",
       "  \n",
       "    <!-- set the approval -->\n",
       "    <tr>\n",
       "        <td>Approved By</td>\n",
       "        <td> - </td> \n",
       "    </tr>\n",
       "  \n",
       "    <!-- set the contact details -->\n",
       "    <tr>\n",
       "        <td>Contact</td>\n",
       "        <td>rachel.hassall@dnvgl.com</td> \n",
       "    </tr>\n",
       "\n",
       "    \n",
       "</table>"
      ],
      "text/plain": [
       "<IPython.core.display.HTML object>"
      ]
     },
     "metadata": {},
     "output_type": "display_data"
    }
   ],
   "source": [
    "%%html \n",
    "\n",
    "<!-- html code to create a report title page -->\n",
    "\n",
    "<!-- The title page is created from an html table of class .titlepage which is configured from the .css\n",
    "additional detail can be added by including further rows in the table.\n",
    "Copy the format to add additional detail as a row -->\n",
    "\n",
    "<table  class = titlepage>\n",
    "\n",
    "    <!-- don't change the header -->\n",
    "    <tr>\n",
    "        <th colspan=\"2\"><img class=\"logo-image\" src=\"https://mydnvglcdn.azureedge.net/cdn/dnvgl-styles/common/images/logo/logo-wide.svg\" stle=\"width:100%\" /></th>\n",
    "    </tr>\n",
    "\n",
    "    <!-- set the report title -->\n",
    "    <tr>\n",
    "        <td colspan=\"2\">DNV GL Style: Jupyter Notebook</td>\n",
    "    </tr>\n",
    "  \n",
    "    <!-- set a short description -->\n",
    "    <tr>\n",
    "        <td colspan=\"2\"> A guide to Aesthetic Config  </td>\n",
    "    </tr>\n",
    "\n",
    "    <!-- include a picture -->\n",
    "    <tr>\n",
    "        <td colspan=\"2\"><img src=\"markup_data\\styleguide_wordcloud.jpg\" alt=\"CoverImage\" style=\"width: 100%;\"/></td>\n",
    "    </tr>\n",
    "\n",
    "    <!-- set the version -->\n",
    "    <tr>\n",
    "        <td>Version</td>\n",
    "        <td>0.5</td> \n",
    "    </tr>\n",
    "  \n",
    "    <!-- set the date -->\n",
    "    <tr>\n",
    "        <td>Date</td>\n",
    "        <td>14/06/2018</td> \n",
    "    </tr>\n",
    "  \n",
    "    <!-- set the author -->\n",
    "    <tr>\n",
    "        <td>Author(s)</td>\n",
    "        <td>Rachel Hassall</td> \n",
    "    </tr>\n",
    "  \n",
    "    <!-- set the approval -->\n",
    "    <tr>\n",
    "        <td>Approved By</td>\n",
    "        <td> - </td> \n",
    "    </tr>\n",
    "  \n",
    "    <!-- set the contact details -->\n",
    "    <tr>\n",
    "        <td>Contact</td>\n",
    "        <td>rachel.hassall@dnvgl.com</td> \n",
    "    </tr>\n",
    "\n",
    "    \n",
    "</table>"
   ]
  },
  {
   "cell_type": "markdown",
   "metadata": {},
   "source": [
    "The purpose of this notebook is to document my implemented DNV GL template for jupyter notebooks using .css and matplotlib. I've used DNV GL's style guide as a basis - https://styleguide.dnvgl.com/.\n",
    "\n",
    "> Note: Changing the .css will apply changes to all your notebooks."
   ]
  },
  {
   "cell_type": "code",
   "execution_count": 2,
   "metadata": {
    "ExecuteTime": {
     "end_time": "2018-06-14T07:30:12.066673Z",
     "start_time": "2018-06-14T07:30:10.760670Z"
    },
    "collapsed": true
   },
   "outputs": [],
   "source": [
    "# import some libraries for examples\n",
    "\n",
    "import matplotlib.pyplot as plt\n",
    "import matplotlib as mpl\n",
    "import numpy as np\n",
    "import pandas as pd"
   ]
  },
  {
   "cell_type": "markdown",
   "metadata": {
    "toc": true
   },
   "source": [
    "<h1>Table of Contents<span class=\"tocSkip\"></span></h1>\n",
    "<div class=\"toc\"><ul class=\"toc-item\"><li><span><a href=\"#Fonts\" data-toc-modified-id=\"Fonts-1\"><span class=\"toc-item-num\">1&nbsp;&nbsp;</span>Fonts</a></span></li><li><span><a href=\"#Update-Notebook-config-with-custom.css\" data-toc-modified-id=\"Update-Notebook-config-with-custom.css-2\"><span class=\"toc-item-num\">2&nbsp;&nbsp;</span>Update Notebook config with custom.css</a></span><ul class=\"toc-item\"><li><span><a href=\"#Add-logo-image-into-directory\" data-toc-modified-id=\"Add-logo-image-into-directory-2.1\"><span class=\"toc-item-num\">2.1&nbsp;&nbsp;</span>Add logo image into directory</a></span></li><li><span><a href=\"#Add-custom.css-file\" data-toc-modified-id=\"Add-custom.css-file-2.2\"><span class=\"toc-item-num\">2.2&nbsp;&nbsp;</span>Add custom.css file</a></span></li><li><span><a href=\"#Report-Page\" data-toc-modified-id=\"Report-Page-2.3\"><span class=\"toc-item-num\">2.3&nbsp;&nbsp;</span>Report Page</a></span></li><li><span><a href=\"#Test\" data-toc-modified-id=\"Test-2.4\"><span class=\"toc-item-num\">2.4&nbsp;&nbsp;</span>Test</a></span><ul class=\"toc-item\"><li><span><a href=\"#Report-Page\" data-toc-modified-id=\"Report-Page-2.4.1\"><span class=\"toc-item-num\">2.4.1&nbsp;&nbsp;</span>Report Page</a></span></li><li><span><a href=\"#Headings\" data-toc-modified-id=\"Headings-2.4.2\"><span class=\"toc-item-num\">2.4.2&nbsp;&nbsp;</span>Headings</a></span></li><li><span><a href=\"#DataFrames\" data-toc-modified-id=\"DataFrames-2.4.3\"><span class=\"toc-item-num\">2.4.3&nbsp;&nbsp;</span>DataFrames</a></span></li><li><span><a href=\"#Output\" data-toc-modified-id=\"Output-2.4.4\"><span class=\"toc-item-num\">2.4.4&nbsp;&nbsp;</span>Output</a></span></li></ul></li></ul></li><li><span><a href=\"#Update-Matplotlib-Plots\" data-toc-modified-id=\"Update-Matplotlib-Plots-3\"><span class=\"toc-item-num\">3&nbsp;&nbsp;</span>Update Matplotlib Plots</a></span><ul class=\"toc-item\"><li><span><a href=\"#Directly-in-.matploylibrc-config\" data-toc-modified-id=\"Directly-in-.matploylibrc-config-3.1\"><span class=\"toc-item-num\">3.1&nbsp;&nbsp;</span>Directly in .matploylibrc config</a></span></li><li><span><a href=\"#Using-Style-Sheets\" data-toc-modified-id=\"Using-Style-Sheets-3.2\"><span class=\"toc-item-num\">3.2&nbsp;&nbsp;</span>Using Style Sheets</a></span></li><li><span><a href=\"#Test\" data-toc-modified-id=\"Test-3.3\"><span class=\"toc-item-num\">3.3&nbsp;&nbsp;</span>Test</a></span></li></ul></li><li><span><a href=\"#Converting-to-html\" data-toc-modified-id=\"Converting-to-html-4\"><span class=\"toc-item-num\">4&nbsp;&nbsp;</span>Converting to html</a></span></li></ul></div>"
   ]
  },
  {
   "cell_type": "markdown",
   "metadata": {},
   "source": [
    "## Fonts"
   ]
  },
  {
   "cell_type": "markdown",
   "metadata": {},
   "source": [
    "For windows, installed fonts can be seen in \"Control Panel\\All Control Panel Items\\Fonts\", I use 'Avenir Next LT Pro' and 'Broader View' in my CSS configuration as per the DNV GL style guide. If not there they can be installed from within the fonts folder."
   ]
  },
  {
   "cell_type": "markdown",
   "metadata": {},
   "source": [
    "## Update Notebook config with custom.css\n",
    "\n",
    "### Add logo image into directory\n",
    "Add the DNV GL .png logo (or another one) into the.jupyter custom directory,'..\\\\.jupyter\\custom', naming the file \"logo.png\". This is used in the top left corner of the jupyter notebook.\n",
    "\n",
    "<img src=markup_data\\DNVGL_Theme_Sample_header.jpg>"
   ]
  },
  {
   "cell_type": "markdown",
   "metadata": {},
   "source": [
    "### Add custom.css file\n",
    "The .css file holds the html config for the notebook.\n",
    "\n",
    "Main changes implemented in the .css file are as follows:\n",
    "- Fonts changed to Avenir Next LT Pro\n",
    "- Title font to Broader View and cyan colour\n",
    "- Markdown header colour change to cyan\n",
    "- DNV GL logo in corner\n",
    "- HTML output (e.g. dataframes) font change\n",
    "- Centred all output\n",
    "- Text code output changed to italics with background\n",
    "- Added .titlepage class for formatting the title page cell for reports.\n",
    "\n",
    "1.Check if '~\\.jupyter\\custom\\custom.css' exists\n",
    "\n",
    "2.a) If so then update with the following below.\n",
    "\n",
    "2.b) If not then create a .css file in this location and add the script below."
   ]
  },
  {
   "cell_type": "markdown",
   "metadata": {
    "ExecuteTime": {
     "end_time": "2018-06-12T02:17:48.243977Z",
     "start_time": "2018-06-12T02:17:47.895033Z"
    }
   },
   "source": [
    ">/*\n",
    ">\n",
    ">    Name:       DNV GL\n",
    ">    Author:     Rachel Hassall\n",
    ">    Date:\t29/05/2018\n",
    ">\n",
    ">    Adapted from the following source(s):\n",
    ">    Base16 Twilight Dark by David hart (http://sherifsoliman.com/2016/01/11/theming-ipython-jupyter-notebook/)\n",
    ">    CodeMirror template adapted for IPython Notebook by Nikhil Sonnad (https://github.com/nsonnad/base16-ipython-notebook)\n",
    ">    CodeMirror template by Jan T. Sott (https://github.com/idleberg/base16-chrome-devtools)\n",
    ">    Original Base16 color scheme by Chris Kempson (https://github.com/chriskempson/base16)\n",
    ">\n",
    ">*/\n",
    ">\n",
    ">/*########################*/\n",
    ">\n",
    ">/*CUSTOMISATIONS*/\n",
    ">\n",
    ">/*This prevents scrollable output from having an ugly grey\n",
    ">shadow around it*/\n",
    ">div.output.output_scroll {\n",
    ">    box-shadow: none;\n",
    ">}\n",
    ">\n",
    ">/*Scroll bars*/\n",
    ">::-webkit-scrollbar {\n",
    ">    width: 12px;\n",
    ">}\n",
    ">\n",
    ">/* Handle */\n",
    ">::-webkit-scrollbar-thumb {\n",
    ">   -webkit-border-radius: 5px;\n",
    ">    border-radius: 5px;\n",
    ">    background: #cccccc;\n",
    ">}\n",
    ">/*::-webkit-scrollbar-thumb:window-inactive {\n",
    ">\tbackground: #cccccc; \n",
    ">}\n",
    ">\n",
    ">\n",
    ">/*########################*/\n",
    ">\n",
    ">\n",
    ">/* GLOBALS */\n",
    ">body {background-color: #ffffff;}\n",
    ">a {color: #7587a6;}\n",
    ">\n",
    ">/* INTRO PAGE */\n",
    ">.toolbar_info, .list_container {color: #c3c3c3;}\n",
    ">\n",
    ">/*########################*/\n",
    ">\n",
    ">/* ADD DNV GL LOGO */\n",
    ">\n",
    ">#ipython_notebook img{                                                                                      \n",
    ">    display:block;\n",
    ">    background: url(logo.png) no-repeat;\n",
    ">    background-size: contain;\n",
    ">    width: 133px;\n",
    ">    height: 33px;\n",
    ">    padding-left: 133px;\n",
    ">    -moz-box-sizing: border-box;\n",
    ">    box-sizing: border-box;\n",
    ">}\n",
    ">\n",
    ">/* CHANGE FILENAME TITLE FORMAT*/\n",
    ">span.save_widget span.filename {\n",
    "> margin-left: 8px;\n",
    "> font-size: 120%;\n",
    "> color: #009fda;\n",
    "> font-family: 'Broader View';\n",
    ">}\n",
    ">\n",
    ">/*########################*/\n",
    ">\n",
    ">\n",
    ">/* NOTEBOOK */\n",
    ">\n",
    ">\n",
    ">div.input_area {\n",
    ">  border-radius: 0px;\n",
    ">  border: 1px solid #464b50;\n",
    ">}\n",
    ">\n",
    ">/* OUTPUT TEXT COLOUR */\n",
    ">div.output_area pre {font-family: 'Avenir Next LT Pro'; font-style: italic; font-weight: normal; color: #0F204B; background-color: #f2f2f2; padding: 5px}\n",
    ">div.output_subarea {font-family: 'Avenir Next LT Pro'; font-style: italic; font-weight: normal; color: #0F204B;}\n",
    ">\n",
    ">/* CENTRED OUTPUT*/\n",
    ">.output {\n",
    ">    display: flex;\n",
    ">    align-items: center;\n",
    ">    text-align: center;\n",
    ">}\n",
    ">\n",
    ">/* OUTPUT DATAFRAME AND TABLES*/\n",
    ">div.output_html { font-family: Avenir Next LT Pro; font-weight: normal; font-style: normal }\n",
    ">\n",
    ">\n",
    ">/* border around dataframe */\n",
    ">table.dataframe {\n",
    ">    border-collapse: collapse;\n",
    ">    border: 1px solid #988f86;\n",
    ">}\n",
    ">\n",
    ">/* border around header and font */\n",
    ">div.rendered_html thead {\n",
    ">\tborder: none;\n",
    ">\t}\n",
    ">\t\t\n",
    ">table.dataframe thead {\n",
    ">\tborder: none;\n",
    ">\tborder-bottom: 2px solid #0f204b;\n",
    ">\t}\t\n",
    ">\t\n",
    ">\n",
    ">\t\n",
    ">table.dataframe th {\n",
    ">    text-align: left;\n",
    ">    font-weight: bold;\n",
    ">\tcolor: #0f204b;\n",
    ">}\n",
    ">\t\n",
    ">\t\n",
    ">div.cell.selected {border-radius: 0px;}\n",
    ">div.cell.edit_mode {border-radius: 0px; border: thin solid #9b859d;}\n",
    ">\n",
    ">\n",
    ">/* MARKDOWN TEXT*/\n",
    ">\n",
    ">div.text_cell_render, div.output_html {font-family: 'Avenir Next LT Pro'; color: #0F204B;}\n",
    ">div.text_cell_render h1, div.output_html {color: #009fda;}\n",
    ">div.text_cell_render h2, div.output_html {color: #009fda;}\n",
    ">div.text_cell_render h3, div.output_html {color: #009fda;}\n",
    ">div.text_cell_render h4, div.output_html {color: #009fda;}\n",
    ">div.text_cell_render h5, div.output_html {color: #009fda;}\n",
    ">\n",
    ">div.output_stderr {background-color: #cf6a4c;}\n",
    ">div.output_stderr pre {color: #c3c3c3;}\n",
    ">\n",
    ">\n",
    ">\n",
    ">/* TITLE PAGE CELL TABLE*/\n",
    ">    .titlepage {\n",
    ">        width: 100%;\n",
    ">        background-color: #ffffff !important;\n",
    ">\t\tborder-spacing: 3px;\n",
    ">    }\n",
    ">    \n",
    ">    \n",
    ">    .titlepage tr {\n",
    ">        margin:0;\n",
    ">        padding:4px;\n",
    ">                    border-collapse: collapse !important;\n",
    ">        border-style: hidden !important;\n",
    ">        background-color: #ffffff !important;   \n",
    ">                        display: table;\n",
    ">        align-items: left;\n",
    ">\t\theight: 10 px\n",
    ">\n",
    ">    }\n",
    ">    \n",
    ">   \n",
    ">    .titlepage th {\n",
    ">            border-style: hidden !important;\n",
    ">   }\n",
    ">    \n",
    ">    \n",
    ">    .titlepage tr:nth-child(2) {\n",
    ">            font-family:Broader View;\n",
    ">            font-size: 40px; \n",
    ">            color: #009fda;\n",
    ">        \n",
    ">    }\n",
    ">    \n",
    ">    \n",
    ">    .titlepage tr:nth-child(3) {\n",
    ">            font-size:20px;\n",
    ">    }\n",
    ">    \n",
    ">    \n",
    ">    \n",
    ">    .titlepage td {\n",
    ">            border-style: hidden !important;\n",
    ">   }\n",
    ">    \n",
    ">    \n",
    ">    .titlepage table {\n",
    ">            border-style: hidden !important;\n",
    ">    }"
   ]
  },
  {
   "cell_type": "markdown",
   "metadata": {},
   "source": [
    "### Report Page\n",
    "\n",
    "The .css file holds a custom html class, .titlepage, that can be used to create a report \"front cover\" cell within the notebook.\n",
    "\n",
    "1. Add the code below into a code cell and edit to your needs.\n",
    "\n",
    "2. Tag it as \"remove_input\"\n",
    "\n",
    "    ![cell_tagging](markup_data\\cell_tagging.gif \"cell_tagging\")\n",
    "\n",
    "3. Run the cell\n",
    "\n",
    "4. When converting to html or pdf use nbconvert from the command line as follows:\n",
    "\n",
    "> jupyter nbconvert <YourFile.ipynb> --TagRemovePreprocessor.remove_input_tags={\\\"remove_input\\\"}"
   ]
  },
  {
   "cell_type": "code",
   "execution_count": 3,
   "metadata": {
    "ExecuteTime": {
     "end_time": "2018-06-14T07:30:12.078251Z",
     "start_time": "2018-06-14T07:30:12.069190Z"
    }
   },
   "outputs": [
    {
     "data": {
      "text/html": [
       "\n",
       "<!-- html code to create a report title page -->\n",
       "\n",
       "<!-- The title page is created from an html table of class .titlepage which is configured from the .css\n",
       "additional detail can be added by including further rows in the table.\n",
       "Copy the format to add additional detail as a row -->\n",
       "\n",
       "<table  class = titlepage>\n",
       "\n",
       "    <!-- don't change the header -->\n",
       "    <tr>\n",
       "        <th colspan=\"2\"><img class=\"logo-image\" src=\"https://mydnvglcdn.azureedge.net/cdn/dnvgl-styles/common/images/logo/logo-wide.svg\" stle=\"width:100%\" /></th>\n",
       "    </tr>\n",
       "\n",
       "    <!-- set the report title -->\n",
       "    <tr>\n",
       "        <td colspan=\"2\">Report Title</td>\n",
       "    </tr>\n",
       "  \n",
       "    <!-- set a short description -->\n",
       "    <tr>\n",
       "        <td colspan=\"2\"> A short description </td>\n",
       "    </tr>\n",
       "\n",
       "    <!-- include a picture -->\n",
       "    <tr>\n",
       "        <td colspan=\"2\"><img src=\"markup_data\\sample_report_image.jpg\" alt=\"CoverImage\" style=\"width: 100%;\"/></td>\n",
       "    </tr>\n",
       "\n",
       "    <!-- set the version -->\n",
       "    <tr>\n",
       "        <td>Version</td>\n",
       "        <td>0.2</td> \n",
       "    </tr>\n",
       "  \n",
       "    <!-- set the date -->\n",
       "    <tr>\n",
       "        <td>Date</td>\n",
       "        <td>12/06/2018</td> \n",
       "    </tr>\n",
       "  \n",
       "    <!-- set the author -->\n",
       "    <tr>\n",
       "        <td>Author(s)</td>\n",
       "        <td>Rachel Hassall</td> \n",
       "    </tr>\n",
       "  \n",
       "    <!-- set the approval -->\n",
       "    <tr>\n",
       "        <td>Approved By</td>\n",
       "        <td> - </td> \n",
       "    </tr>\n",
       "  \n",
       "    <!-- set the contact details -->\n",
       "    <tr>\n",
       "        <td>Contact</td>\n",
       "        <td>rachel.hassall@dnvgl.com</td> \n",
       "    </tr>\n",
       "\n",
       "    \n",
       "</table>"
      ],
      "text/plain": [
       "<IPython.core.display.HTML object>"
      ]
     },
     "metadata": {},
     "output_type": "display_data"
    }
   ],
   "source": [
    "%%html \n",
    "\n",
    "<!-- html code to create a report title page -->\n",
    "\n",
    "<!-- The title page is created from an html table of class .titlepage which is configured from the .css\n",
    "additional detail can be added by including further rows in the table.\n",
    "Copy the format to add additional detail as a row -->\n",
    "\n",
    "<table  class = titlepage>\n",
    "\n",
    "    <!-- don't change the header -->\n",
    "    <tr>\n",
    "        <th colspan=\"2\"><img class=\"logo-image\" src=\"https://mydnvglcdn.azureedge.net/cdn/dnvgl-styles/common/images/logo/logo-wide.svg\" stle=\"width:100%\" /></th>\n",
    "    </tr>\n",
    "\n",
    "    <!-- set the report title -->\n",
    "    <tr>\n",
    "        <td colspan=\"2\">Report Title</td>\n",
    "    </tr>\n",
    "  \n",
    "    <!-- set a short description -->\n",
    "    <tr>\n",
    "        <td colspan=\"2\"> A short description </td>\n",
    "    </tr>\n",
    "\n",
    "    <!-- include a picture -->\n",
    "    <tr>\n",
    "        <td colspan=\"2\"><img src=\"markup_data\\sample_report_image.jpg\" alt=\"CoverImage\" style=\"width: 100%;\"/></td>\n",
    "    </tr>\n",
    "\n",
    "    <!-- set the version -->\n",
    "    <tr>\n",
    "        <td>Version</td>\n",
    "        <td>0.2</td> \n",
    "    </tr>\n",
    "  \n",
    "    <!-- set the date -->\n",
    "    <tr>\n",
    "        <td>Date</td>\n",
    "        <td>12/06/2018</td> \n",
    "    </tr>\n",
    "  \n",
    "    <!-- set the author -->\n",
    "    <tr>\n",
    "        <td>Author(s)</td>\n",
    "        <td>Rachel Hassall</td> \n",
    "    </tr>\n",
    "  \n",
    "    <!-- set the approval -->\n",
    "    <tr>\n",
    "        <td>Approved By</td>\n",
    "        <td> - </td> \n",
    "    </tr>\n",
    "  \n",
    "    <!-- set the contact details -->\n",
    "    <tr>\n",
    "        <td>Contact</td>\n",
    "        <td>rachel.hassall@dnvgl.com</td> \n",
    "    </tr>\n",
    "\n",
    "    \n",
    "</table>"
   ]
  },
  {
   "cell_type": "markdown",
   "metadata": {},
   "source": [
    "### Test\n",
    "\n",
    "#### Report Page\n",
    "\n",
    "The above code should give a title page output like this (following a refresh and potential kernel restart)...\n",
    "\n",
    "<img src=markup_data\\DNVGL_Theme_Sample_titlepage.jpg>\n",
    "\n",
    "#### Headings\n",
    "\n",
    "Headings should now look like this (following a refresh and potential kernel restart)...\n",
    "\n",
    "<img src=markup_data\\DNVGL_Theme_Sample_text.jpg>\n",
    "\n",
    "\n",
    "#### DataFrames\n",
    "\n",
    "DataFrames should now look like this (following a refresh and potential kernel restart)...\n",
    "Note that nbconvert to html may change the status of this, see [Converting to html] for details.\n",
    "\n",
    "<img src=markup_data\\DNVGL_Theme_Sample_df.jpg>"
   ]
  },
  {
   "cell_type": "code",
   "execution_count": 4,
   "metadata": {
    "ExecuteTime": {
     "end_time": "2018-06-14T07:30:12.160682Z",
     "start_time": "2018-06-14T07:30:12.081470Z"
    }
   },
   "outputs": [
    {
     "data": {
      "text/html": [
       "<div>\n",
       "<style scoped>\n",
       "    .dataframe tbody tr th:only-of-type {\n",
       "        vertical-align: middle;\n",
       "    }\n",
       "\n",
       "    .dataframe tbody tr th {\n",
       "        vertical-align: top;\n",
       "    }\n",
       "\n",
       "    .dataframe thead th {\n",
       "        text-align: right;\n",
       "    }\n",
       "</style>\n",
       "<table border=\"1\" class=\"dataframe\">\n",
       "  <thead>\n",
       "    <tr style=\"text-align: right;\">\n",
       "      <th></th>\n",
       "      <th>col1</th>\n",
       "      <th>col2</th>\n",
       "      <th>col3</th>\n",
       "      <th>col4</th>\n",
       "      <th>reallyreallyreallylongcolomnname</th>\n",
       "      <th>col6</th>\n",
       "      <th>col7</th>\n",
       "      <th>col8</th>\n",
       "      <th>col9</th>\n",
       "      <th>col10</th>\n",
       "      <th>col11</th>\n",
       "    </tr>\n",
       "  </thead>\n",
       "  <tbody>\n",
       "    <tr>\n",
       "      <th>0</th>\n",
       "      <td>1.078505e-311</td>\n",
       "      <td>1.078505e-311</td>\n",
       "      <td>1.078505e-311</td>\n",
       "      <td>1.078505e-311</td>\n",
       "      <td>1.078566e-311</td>\n",
       "      <td>1.078566e-311</td>\n",
       "      <td>1.078566e-311</td>\n",
       "      <td>1.078566e-311</td>\n",
       "      <td>1.078505e-311</td>\n",
       "      <td>1.078566e-311</td>\n",
       "      <td>1.078566e-311</td>\n",
       "    </tr>\n",
       "    <tr>\n",
       "      <th>1</th>\n",
       "      <td>1.078566e-311</td>\n",
       "      <td>1.078566e-311</td>\n",
       "      <td>1.078566e-311</td>\n",
       "      <td>1.078566e-311</td>\n",
       "      <td>1.078566e-311</td>\n",
       "      <td>1.078566e-311</td>\n",
       "      <td>1.078566e-311</td>\n",
       "      <td>1.078566e-311</td>\n",
       "      <td>1.078566e-311</td>\n",
       "      <td>1.078566e-311</td>\n",
       "      <td>1.078566e-311</td>\n",
       "    </tr>\n",
       "    <tr>\n",
       "      <th>2</th>\n",
       "      <td>1.078505e-311</td>\n",
       "      <td>1.078566e-311</td>\n",
       "      <td>1.078566e-311</td>\n",
       "      <td>1.078505e-311</td>\n",
       "      <td>1.078566e-311</td>\n",
       "      <td>1.078566e-311</td>\n",
       "      <td>1.078566e-311</td>\n",
       "      <td>1.078505e-311</td>\n",
       "      <td>1.078566e-311</td>\n",
       "      <td>1.078505e-311</td>\n",
       "      <td>1.078566e-311</td>\n",
       "    </tr>\n",
       "    <tr>\n",
       "      <th>3</th>\n",
       "      <td>1.078505e-311</td>\n",
       "      <td>1.078566e-311</td>\n",
       "      <td>1.078566e-311</td>\n",
       "      <td>1.078566e-311</td>\n",
       "      <td>1.078566e-311</td>\n",
       "      <td>1.078566e-311</td>\n",
       "      <td>1.078505e-311</td>\n",
       "      <td>1.078566e-311</td>\n",
       "      <td>1.078566e-311</td>\n",
       "      <td>1.078505e-311</td>\n",
       "      <td>1.078566e-311</td>\n",
       "    </tr>\n",
       "    <tr>\n",
       "      <th>4</th>\n",
       "      <td>1.078566e-311</td>\n",
       "      <td>1.078566e-311</td>\n",
       "      <td>1.078566e-311</td>\n",
       "      <td>1.078505e-311</td>\n",
       "      <td>1.078566e-311</td>\n",
       "      <td>1.078566e-311</td>\n",
       "      <td>1.078566e-311</td>\n",
       "      <td>1.078566e-311</td>\n",
       "      <td>1.078566e-311</td>\n",
       "      <td>1.078505e-311</td>\n",
       "      <td>1.078566e-311</td>\n",
       "    </tr>\n",
       "    <tr>\n",
       "      <th>5</th>\n",
       "      <td>1.078566e-311</td>\n",
       "      <td>1.078505e-311</td>\n",
       "      <td>1.078566e-311</td>\n",
       "      <td>1.078566e-311</td>\n",
       "      <td>1.078505e-311</td>\n",
       "      <td>1.078566e-311</td>\n",
       "      <td>1.078566e-311</td>\n",
       "      <td>1.078505e-311</td>\n",
       "      <td>1.078566e-311</td>\n",
       "      <td>1.078566e-311</td>\n",
       "      <td>1.078566e-311</td>\n",
       "    </tr>\n",
       "    <tr>\n",
       "      <th>6</th>\n",
       "      <td>1.078566e-311</td>\n",
       "      <td>1.078566e-311</td>\n",
       "      <td>1.078566e-311</td>\n",
       "      <td>1.078505e-311</td>\n",
       "      <td>1.078566e-311</td>\n",
       "      <td>1.078505e-311</td>\n",
       "      <td>1.078566e-311</td>\n",
       "      <td>1.078566e-311</td>\n",
       "      <td>1.078566e-311</td>\n",
       "      <td>1.078505e-311</td>\n",
       "      <td>1.078505e-311</td>\n",
       "    </tr>\n",
       "    <tr>\n",
       "      <th>7</th>\n",
       "      <td>1.078566e-311</td>\n",
       "      <td>1.078566e-311</td>\n",
       "      <td>1.078566e-311</td>\n",
       "      <td>1.078566e-311</td>\n",
       "      <td>1.078505e-311</td>\n",
       "      <td>1.078566e-311</td>\n",
       "      <td>1.078566e-311</td>\n",
       "      <td>1.078505e-311</td>\n",
       "      <td>1.078566e-311</td>\n",
       "      <td>1.078505e-311</td>\n",
       "      <td>1.078566e-311</td>\n",
       "    </tr>\n",
       "  </tbody>\n",
       "</table>\n",
       "</div>"
      ],
      "text/plain": [
       "            col1           col2           col3           col4  \\\n",
       "0  1.078505e-311  1.078505e-311  1.078505e-311  1.078505e-311   \n",
       "1  1.078566e-311  1.078566e-311  1.078566e-311  1.078566e-311   \n",
       "2  1.078505e-311  1.078566e-311  1.078566e-311  1.078505e-311   \n",
       "3  1.078505e-311  1.078566e-311  1.078566e-311  1.078566e-311   \n",
       "4  1.078566e-311  1.078566e-311  1.078566e-311  1.078505e-311   \n",
       "5  1.078566e-311  1.078505e-311  1.078566e-311  1.078566e-311   \n",
       "6  1.078566e-311  1.078566e-311  1.078566e-311  1.078505e-311   \n",
       "7  1.078566e-311  1.078566e-311  1.078566e-311  1.078566e-311   \n",
       "\n",
       "   reallyreallyreallylongcolomnname           col6           col7  \\\n",
       "0                     1.078566e-311  1.078566e-311  1.078566e-311   \n",
       "1                     1.078566e-311  1.078566e-311  1.078566e-311   \n",
       "2                     1.078566e-311  1.078566e-311  1.078566e-311   \n",
       "3                     1.078566e-311  1.078566e-311  1.078505e-311   \n",
       "4                     1.078566e-311  1.078566e-311  1.078566e-311   \n",
       "5                     1.078505e-311  1.078566e-311  1.078566e-311   \n",
       "6                     1.078566e-311  1.078505e-311  1.078566e-311   \n",
       "7                     1.078505e-311  1.078566e-311  1.078566e-311   \n",
       "\n",
       "            col8           col9          col10          col11  \n",
       "0  1.078566e-311  1.078505e-311  1.078566e-311  1.078566e-311  \n",
       "1  1.078566e-311  1.078566e-311  1.078566e-311  1.078566e-311  \n",
       "2  1.078505e-311  1.078566e-311  1.078505e-311  1.078566e-311  \n",
       "3  1.078566e-311  1.078566e-311  1.078505e-311  1.078566e-311  \n",
       "4  1.078566e-311  1.078566e-311  1.078505e-311  1.078566e-311  \n",
       "5  1.078505e-311  1.078566e-311  1.078566e-311  1.078566e-311  \n",
       "6  1.078566e-311  1.078566e-311  1.078505e-311  1.078505e-311  \n",
       "7  1.078505e-311  1.078566e-311  1.078505e-311  1.078566e-311  "
      ]
     },
     "execution_count": 4,
     "metadata": {},
     "output_type": "execute_result"
    }
   ],
   "source": [
    "df = pd.DataFrame(\n",
    "    columns=[\n",
    "        \"col1\", \"col2\", \"col3\", \"col4\", \"reallyreallyreallylongcolomnname\",\n",
    "        \"col6\", \"col7\", \"col8\", \"col9\", \"col10\", \"col11\"\n",
    "    ],\n",
    "    data=np.empty([8, 11]))\n",
    "df"
   ]
  },
  {
   "cell_type": "markdown",
   "metadata": {},
   "source": [
    "#### Output\n",
    "\n",
    "Output should now look like this...\n",
    "\n",
    "<img src=markup_data\\DNVGL_Theme_Sample_output.jpg>"
   ]
  },
  {
   "cell_type": "code",
   "execution_count": 5,
   "metadata": {
    "ExecuteTime": {
     "end_time": "2018-06-14T07:30:12.939620Z",
     "start_time": "2018-06-14T07:30:12.164701Z"
    }
   },
   "outputs": [
    {
     "name": "stdout",
     "output_type": "stream",
     "text": [
      "This is some sample output, a sample error is shown below\n"
     ]
    },
    {
     "ename": "ZeroDivisionError",
     "evalue": "division by zero",
     "output_type": "error",
     "traceback": [
      "\u001b[1;31m---------------------------------------------------------------------------\u001b[0m",
      "\u001b[1;31mZeroDivisionError\u001b[0m                         Traceback (most recent call last)",
      "\u001b[1;32m<ipython-input-5-30c5eac5698c>\u001b[0m in \u001b[0;36m<module>\u001b[1;34m()\u001b[0m\n\u001b[0;32m      1\u001b[0m \u001b[0mprint\u001b[0m\u001b[1;33m(\u001b[0m\u001b[1;34m\"This is some sample output, a sample error is shown below\"\u001b[0m\u001b[1;33m)\u001b[0m\u001b[1;33m\u001b[0m\u001b[0m\n\u001b[1;32m----> 2\u001b[1;33m \u001b[1;36m0\u001b[0m\u001b[1;33m/\u001b[0m\u001b[1;36m0\u001b[0m\u001b[1;33m\u001b[0m\u001b[0m\n\u001b[0m",
      "\u001b[1;31mZeroDivisionError\u001b[0m: division by zero"
     ]
    }
   ],
   "source": [
    "print(\"This is some sample output, a sample error is shown below\")\n",
    "0/0"
   ]
  },
  {
   "cell_type": "markdown",
   "metadata": {},
   "source": [
    "## Update Matplotlib Plots"
   ]
  },
  {
   "cell_type": "markdown",
   "metadata": {},
   "source": [
    "Update matplotlib plots with the DNV GL font and colours by altering the matplotlibrc config file. This will apply changes to all your notebooks, alternatively a style sheet can be used if you only want the DNV GL style for a particular notebook. Both methods are shown here."
   ]
  },
  {
   "cell_type": "markdown",
   "metadata": {},
   "source": [
    "### Directly in .matploylibrc config\n",
    "1. Config files can be held in various locations depending on your operating system and environment path variables. These can be checked as follows (or more information found at http://matplotlib.org/users/customizing.html#the-matplotlibrc-file)"
   ]
  },
  {
   "cell_type": "code",
   "execution_count": 6,
   "metadata": {
    "ExecuteTime": {
     "end_time": "2018-06-14T07:30:32.098873Z",
     "start_time": "2018-06-14T07:30:32.088839Z"
    }
   },
   "outputs": [
    {
     "name": "stdout",
     "output_type": "stream",
     "text": [
      "Config Directory:  C:\\Users\\RACHAS\\.matplotlib\n",
      "Config File:  C:\\Users\\RACHAS\\.matplotlib\\matplotlibrc\n",
      "Current Config Cache:  C:\\Users\\RACHAS\\.matplotlib\n"
     ]
    }
   ],
   "source": [
    "print(\"Config Directory: \", mpl.get_configdir())\n",
    "print(\"Config File: \",mpl.matplotlib_fname())\n",
    "print(\"Current Config Cache: \",mpl.get_cachedir())"
   ]
  },
  {
   "cell_type": "markdown",
   "metadata": {},
   "source": [
    "2.a) If a config file already exists then add the following lines in to it (using notepad or similar):"
   ]
  },
  {
   "cell_type": "raw",
   "metadata": {},
   "source": [
    "# change to DNV GL font\n",
    "font.family         : Avenir Next LT Pro\n",
    "\n",
    "# change plotting line to DNV GL colours\n",
    "axes.prop_cycle    : cycler('color', ['009fda', '0f204b', '36842d', 'e98300', 'fecb00', '6e5091', 'c4262e', '7f7f7f', 'bcbd22', '17becf'])\n",
    "\n",
    "                      ## color cycle for plot lines  as list of string\n",
    "                      ## colorspecs: single letter, long name, or web-style hex\n",
    "\t\t\t\t\t  ## Note the use of string escapes here ('1f77b4', instead of 1f77b4)"
   ]
  },
  {
   "cell_type": "markdown",
   "metadata": {},
   "source": [
    "2.b) If no config file exists then create one or copy one from <i> site-packages/matplotlib/mpl-data/matplotlibrc </i> or from the matplotlib website to edit and include the above code from 2.a)."
   ]
  },
  {
   "cell_type": "markdown",
   "metadata": {},
   "source": [
    "### Using Style Sheets\n",
    "If you want to only use the DNV GL theme for selected notebooks then we will create a matplotlib style sheet as follows.\n",
    "\n",
    "1. Create a directory named \"stylelib\" within the config directory\n",
    "2. Within this create a .mplstyle file named \"dnvgl\", containing the same as the above config in 2.a).\n",
    "3. Use in your notebooks using:\n",
    ">import matplotlib.pyplot as plt\n",
    ">\n",
    ">plt.style.use('dnvgl')"
   ]
  },
  {
   "cell_type": "markdown",
   "metadata": {},
   "source": [
    "### Test\n",
    "The below plots should have the same line colours."
   ]
  },
  {
   "cell_type": "code",
   "execution_count": 7,
   "metadata": {
    "ExecuteTime": {
     "end_time": "2018-06-14T07:30:35.909264Z",
     "start_time": "2018-06-14T07:30:35.454354Z"
    }
   },
   "outputs": [
    {
     "data": {
      "image/png": "[encoded data removed]",
      "text/plain": [
       "<Figure size 720x576 with 2 Axes>"
      ]
     },
     "metadata": {},
     "output_type": "display_data"
    }
   ],
   "source": [
    "x = np.arange(0, 10)\n",
    "fig, ax = plt.subplots(1, 2, figsize=(10, 8))\n",
    "dnvgl_colours = [\n",
    "    '#009fda', '#0f204b', '#36842d', '#e98300', '#fecb00', '#6e5091',\n",
    "    '#c4262e', '#988f86', '#003591', '#0067c5'\n",
    "]\n",
    "\n",
    "for i in x:\n",
    "    ax[0].plot(x, x + i, label=str(i))\n",
    "    ax[1].plot(x, x + i, label=str(i), c=dnvgl_colours[i])\n",
    "\n",
    "ax[0].legend()\n",
    "ax[1].legend()\n",
    "\n",
    "ax[0].set_title(\"Test graph from config file\")\n",
    "ax[1].set_title(\"Test graph with ideal colours\")\n",
    "\n",
    "plt.show()"
   ]
  },
  {
   "cell_type": "markdown",
   "metadata": {
    "collapsed": true
   },
   "source": [
    "## Converting to html"
   ]
  },
  {
   "cell_type": "markdown",
   "metadata": {},
   "source": [
    "Note that the following should be used to convert to html:\n",
    "> jupyter nbconvert --TagRemovePreprocessor.remove_input_tags={\\\"remove_input\\\"}\n",
    "   \n",
    "The current version of nbconvert does not deal with pandas and table css very well, version 5.4 should solve this.\\\n",
    "- https://github.com/jupyter/nbconvert/issues/679\n",
    "- https://github.com/jupyter/nbconvert/milestone/15?closed=1\n",
    "\n",
    "An alternative could be to use a jinja template with nbconvert."
   ]
  },
  {
   "cell_type": "code",
   "execution_count": null,
   "metadata": {
    "collapsed": true
   },
   "outputs": [],
   "source": []
  }
 ],
 "metadata": {
  "hide_input": false,
  "kernelspec": {
   "display_name": "Python [conda env:anaconda3]",
   "language": "python",
   "name": "conda-env-anaconda3-py"
  },
  "language_info": {
   "codemirror_mode": {
    "name": "ipython",
    "version": 3
   },
   "file_extension": ".py",
   "mimetype": "text/x-python",
   "name": "python",
   "nbconvert_exporter": "python",
   "pygments_lexer": "ipython3",
   "version": "3.6.5"
  },
  "toc": {
   "base_numbering": 1,
   "nav_menu": {},
   "number_sections": true,
   "sideBar": true,
   "skip_h1_title": true,
   "title_cell": "Table of Contents",
   "title_sidebar": "Contents",
   "toc_cell": true,
   "toc_position": {},
   "toc_section_display": true,
   "toc_window_display": true
  },
  "varInspector": {
   "cols": {
    "lenName": 16,
    "lenType": 16,
    "lenVar": 40
   },
   "kernels_config": {
    "python": {
     "delete_cmd_postfix": "",
     "delete_cmd_prefix": "del ",
     "library": "var_list.py",
     "varRefreshCmd": "print(var_dic_list())"
    },
    "r": {
     "delete_cmd_postfix": ") ",
     "delete_cmd_prefix": "rm(",
     "library": "var_list.r",
     "varRefreshCmd": "cat(var_dic_list()) "
    }
   },
   "types_to_exclude": [
    "module",
    "function",
    "builtin_function_or_method",
    "instance",
    "_Feature"
   ],
   "window_display": false
  }
 },
 "nbformat": 4,
 "nbformat_minor": 2
}
